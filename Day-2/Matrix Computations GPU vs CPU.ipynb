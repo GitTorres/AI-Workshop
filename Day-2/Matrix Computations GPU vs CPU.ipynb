{
 "cells": [
  {
   "cell_type": "markdown",
   "metadata": {},
   "source": [
    "# Matrix Dot Product - CPU vs. GPU"
   ]
  },
  {
   "cell_type": "markdown",
   "metadata": {},
   "source": [
    "## Import Required Packages (only work on systems with GPU)"
   ]
  },
  {
   "cell_type": "code",
   "execution_count": null,
   "metadata": {},
   "outputs": [],
   "source": [
    "import pycuda.gpuarray as gpuarray\n",
    "import pycuda.autoinit\n",
    "import time\n",
    "import skcuda.linalg as culinalg\n",
    "import skcuda\n",
    "import ctypes\n",
    "\n",
    "ctypes.CDLL('libgomp.so.1', mode=ctypes.RTLD_GLOBAL)\n",
    "_libcusolver = ctypes.cdll.LoadLibrary('/usr/local/cuda-8.0/lib64/libcusolver.so')\n",
    "\n",
    "culinalg.init()"
   ]
  },
  {
   "cell_type": "markdown",
   "metadata": {},
   "source": [
    "## Generate a random matrix"
   ]
  },
  {
   "cell_type": "code",
   "execution_count": null,
   "metadata": {},
   "outputs": [],
   "source": [
    "import numpy as np\n",
    "\n",
    "start = time.time()\n",
    "dim = 20000 #if you get a MemoryError, please reduce this to \n",
    "rnd = np.random.RandomState(0)\n",
    "a = rnd.rand(dim, dim).astype(np.float32)\n",
    "end = time.time() - start\n",
    "print(\"Generation Time: {0:2f} seconds\".format(time.time() - start))\n",
    "generation_time = time.time() - start"
   ]
  },
  {
   "cell_type": "markdown",
   "metadata": {},
   "source": [
    "## Compute Dot Product using CPU and system memory"
   ]
  },
  {
   "cell_type": "code",
   "execution_count": null,
   "metadata": {},
   "outputs": [],
   "source": [
    "start = time.time()\n",
    "cpu_result = np.dot(a, a)\n",
    "# cpu_result_sum = np.sum(cpu_result)\n",
    "end = time.time() - start\n",
    "print(\"CPU Time: {0:2f} seconds\".format(time.time() - start))\n",
    "cpu_time = time.time() - start"
   ]
  },
  {
   "cell_type": "markdown",
   "metadata": {},
   "source": [
    "## Copy over the matrix to GPU memory"
   ]
  },
  {
   "cell_type": "code",
   "execution_count": null,
   "metadata": {},
   "outputs": [],
   "source": [
    "start = time.time()\n",
    "a_gpu = gpuarray.to_gpu(a)\n",
    "print (\"Copy in to GPU memory: {0:2f} seconds\".format(time.time() - start))"
   ]
  },
  {
   "cell_type": "markdown",
   "metadata": {},
   "source": [
    "## Compute Dot Product using GPU and GPU memory.\n"
   ]
  },
  {
   "cell_type": "code",
   "execution_count": null,
   "metadata": {},
   "outputs": [],
   "source": [
    "start = time.time()\n",
    "gpu_result = culinalg.dot(a_gpu, a_gpu)\n",
    "# gpu_result_sum = skcuda.misc.sum(gpu_result)\n",
    "print (\"GPU Time: {0:2f} seconds\".format(time.time() - start))\n",
    "gpu_time = time.time() - start"
   ]
  },
  {
   "cell_type": "markdown",
   "metadata": {},
   "source": [
    "## Speed-up"
   ]
  },
  {
   "cell_type": "code",
   "execution_count": null,
   "metadata": {},
   "outputs": [],
   "source": [
    "print(\"CPU Time: {0:2f} seconds\".format(cpu_time))\n",
    "print(\"GPU Time: {0:2f} seconds\".format(gpu_time))\n",
    "print(\"Speed-up: {}\".format(int(cpu_time/gpu_time)))"
   ]
  },
  {
   "cell_type": "markdown",
   "metadata": {},
   "source": [
    "## CPU vs. GPU Architecture"
   ]
  },
  {
   "cell_type": "markdown",
   "metadata": {},
   "source": [
    "<img src=\"image/cpu-gpu.png\">"
   ]
  },
  {
   "cell_type": "markdown",
   "metadata": {},
   "source": [
    "## References\n",
    "\n",
    "NVIDIA P100: https://images.nvidia.com/content/tesla/pdf/nvidia-tesla-p100-PCIe-datasheet.pdf"
   ]
  },
  {
   "cell_type": "code",
   "execution_count": null,
   "metadata": {},
   "outputs": [],
   "source": []
  }
 ],
 "metadata": {
  "kernelspec": {
   "display_name": "Python 3",
   "language": "python",
   "name": "python3"
  },
  "language_info": {
   "codemirror_mode": {
    "name": "ipython",
    "version": 3
   },
   "file_extension": ".py",
   "mimetype": "text/x-python",
   "name": "python",
   "nbconvert_exporter": "python",
   "pygments_lexer": "ipython3",
   "version": "3.5.2"
  }
 },
 "nbformat": 4,
 "nbformat_minor": 2
}
