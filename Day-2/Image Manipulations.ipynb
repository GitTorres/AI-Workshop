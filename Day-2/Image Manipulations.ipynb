{
 "cells": [
  {
   "cell_type": "markdown",
   "metadata": {},
   "source": [
    "# Image Manipulation using Numpy and Scipy"
   ]
  },
  {
   "cell_type": "markdown",
   "metadata": {},
   "source": [
    "## Import required packages"
   ]
  },
  {
   "cell_type": "code",
   "execution_count": null,
   "metadata": {},
   "outputs": [],
   "source": [
    "import numpy as np\n",
    "import matplotlib.pyplot as plt\n",
    "from scipy import signal\n",
    "from scipy import misc\n",
    "% matplotlib inline"
   ]
  },
  {
   "cell_type": "markdown",
   "metadata": {},
   "source": [
    "## Import a test image"
   ]
  },
  {
   "cell_type": "code",
   "execution_count": null,
   "metadata": {},
   "outputs": [],
   "source": [
    "face_img = misc.face()\n",
    "plt.imshow(face_img[:,:,:])"
   ]
  },
  {
   "cell_type": "markdown",
   "metadata": {},
   "source": [
    "## Show the different color channels"
   ]
  },
  {
   "cell_type": "code",
   "execution_count": null,
   "metadata": {},
   "outputs": [],
   "source": [
    "fig, axs = plt.subplots(nrows=1, ncols=3, figsize=(15,5))\n",
    "\n",
    "for c, ax in zip(range(3), axs):\n",
    "    tmp_im = np.zeros(face_img.shape, dtype=\"uint8\")\n",
    "    tmp_im[:,:,c] = face_img[:,:,c]\n",
    "    ax.imshow(tmp_im)\n",
    "    ax.set_axis_off()"
   ]
  },
  {
   "cell_type": "markdown",
   "metadata": {},
   "source": [
    "## Show R Channel in Gray Scale"
   ]
  },
  {
   "cell_type": "code",
   "execution_count": null,
   "metadata": {
    "scrolled": true
   },
   "outputs": [],
   "source": [
    "r_channel = face_img[:,:,1]\n",
    "\n",
    "# Plot the r_channel variable\n",
    "plt.imshow(r_channel, cmap='gray')"
   ]
  },
  {
   "cell_type": "markdown",
   "metadata": {},
   "source": [
    "## Define the kernels"
   ]
  },
  {
   "cell_type": "code",
   "execution_count": null,
   "metadata": {},
   "outputs": [],
   "source": [
    "kernel1 = np.array([[ -1, -2, -1],\n",
    "                    [  0,  0,  0],\n",
    "                    [  1,  2,  1]])\n",
    "\n",
    "kernel2 = np.array([[ -1, 0, 1],\n",
    "                    [ -2, 0, 2],\n",
    "                    [ -1, 0, 1]])"
   ]
  },
  {
   "cell_type": "markdown",
   "metadata": {},
   "source": [
    "## Find convolved gradients "
   ]
  },
  {
   "cell_type": "code",
   "execution_count": null,
   "metadata": {},
   "outputs": [],
   "source": [
    "grad1 = signal.convolve2d(face_img[:,:,1], kernel1, boundary='symm', mode='same')\n",
    "grad2 = signal.convolve2d(face_img[:,:,1], kernel2, boundary='symm', mode='same')"
   ]
  },
  {
   "cell_type": "markdown",
   "metadata": {},
   "source": [
    "## Plot the results"
   ]
  },
  {
   "cell_type": "code",
   "execution_count": null,
   "metadata": {},
   "outputs": [],
   "source": [
    "fig, (ax_orig, ax_mag1, ax_mag2) = plt.subplots(1, 3, figsize=(21, 21))\n",
    "ax_orig.imshow(face_img[:,:,0], cmap='gray')\n",
    "ax_orig.set_title('Original')\n",
    "ax_orig.set_axis_off()\n",
    "ax_mag1.imshow(grad1, cmap='gray')\n",
    "ax_mag1.set_title('Convolution using Gradient 1')\n",
    "ax_mag1.set_axis_off()\n",
    "ax_mag2.imshow(grad2, cmap='gray')\n",
    "ax_mag2.set_title('Convolution using Gradient 2')\n",
    "ax_mag2.set_axis_off()"
   ]
  },
  {
   "cell_type": "markdown",
   "metadata": {},
   "source": [
    "## Save an image"
   ]
  },
  {
   "cell_type": "code",
   "execution_count": null,
   "metadata": {},
   "outputs": [],
   "source": [
    "misc.imsave('grad1.png', grad1)"
   ]
  },
  {
   "cell_type": "markdown",
   "metadata": {},
   "source": [
    "## Let's play with the kernels"
   ]
  },
  {
   "cell_type": "code",
   "execution_count": null,
   "metadata": {},
   "outputs": [],
   "source": [
    "kernel1 = np.array( ... )\n",
    "\n",
    "kernel2 = np.array( ... )\n",
    "\n",
    "grad1 = signal.convolve2d(face_img[:,:,1], kernel1, boundary='symm', mode='same')\n",
    "grad2 = signal.convolve2d(face_img[:,:,1], kernel2, boundary='symm', mode='same')\n",
    "\n",
    "fig, (ax_orig, ax_mag1, ax_mag2) = plt.subplots(1, 3, figsize=(21, 21))\n",
    "ax_orig.imshow(face_img[:,:,0], cmap='gray')\n",
    "ax_orig.set_title('Original')\n",
    "ax_orig.set_axis_off()\n",
    "ax_mag1.imshow(grad1, cmap='gray')\n",
    "ax_mag1.set_title('Convolution using Gradient 1')\n",
    "ax_mag1.set_axis_off()\n",
    "ax_mag2.imshow(grad2, cmap='gray')\n",
    "ax_mag2.set_title('Convolution using Gradient 2')\n",
    "ax_mag2.set_axis_off()"
   ]
  }
 ],
 "metadata": {
  "kernelspec": {
   "display_name": "Python 3",
   "language": "python",
   "name": "python3"
  },
  "language_info": {
   "codemirror_mode": {
    "name": "ipython",
    "version": 3
   },
   "file_extension": ".py",
   "mimetype": "text/x-python",
   "name": "python",
   "nbconvert_exporter": "python",
   "pygments_lexer": "ipython3",
   "version": "3.5.2"
  }
 },
 "nbformat": 4,
 "nbformat_minor": 2
}
