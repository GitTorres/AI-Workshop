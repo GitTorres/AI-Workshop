{
 "cells": [
  {
   "cell_type": "markdown",
   "metadata": {},
   "source": [
    "# Linear Algebra Review\n",
    "Python is a great programming language and with the help of a few popular libraries such numpy and matplotlib it becomes a powerful environment for Linear Algebra computing.\n",
    "\n",
    "Numpy Documentation - This brief overview has touched on many of the important things that you need to know about numpy, but is far from complete. Check out the [numpy reference](http://docs.scipy.org/doc/numpy/reference/) to find out much more about numpy.\n",
    "\n",
    "##### 1) Matrices and Vectors \n",
    "Rectangulare array of numbers\n",
    "<img src=\"image/matrix.png\">\n",
    "\n",
    "## Numpy Array "
   ]
  },
  {
   "cell_type": "code",
   "execution_count": 11,
   "metadata": {},
   "outputs": [],
   "source": [
    "import numpy as np"
   ]
  },
  {
   "cell_type": "markdown",
   "metadata": {},
   "source": [
    "##### 1) Matrices and Vectors \n",
    "A numpy array is a grid of values, all of the same type, and is indexed by a tuple of nonnegative integers."
   ]
  },
  {
   "cell_type": "code",
   "execution_count": 12,
   "metadata": {},
   "outputs": [
    {
     "name": "stdout",
     "output_type": "stream",
     "text": [
      "[[1 2 3 4]\n",
      " [1 4 5 6]\n",
      " [1 2 3 4]]\n",
      "<class 'numpy.ndarray'>\n",
      "(3, 4)\n"
     ]
    }
   ],
   "source": [
    "# Create a rank 1 array\n",
    "a = np.array(\n",
    "    [\n",
    "        [1,2,3,4],\n",
    "        [1,4,5,6],\n",
    "        [1,2,3,4]\n",
    "    ]\n",
    ")  \n",
    "print (a)\n",
    "print (type(a))            \n",
    "print (a.shape)"
   ]
  },
  {
   "cell_type": "markdown",
   "metadata": {},
   "source": [
    "##### 1.1) Change an element of the array "
   ]
  },
  {
   "cell_type": "code",
   "execution_count": 13,
   "metadata": {},
   "outputs": [
    {
     "name": "stdout",
     "output_type": "stream",
     "text": [
      "[[1 2 3 4]\n",
      " [1 4 5 6]\n",
      " [1 2 3 4]]\n",
      "\n",
      "[[100   2   3   4]\n",
      " [  1   4   5   6]\n",
      " [  1   2   3   4]]\n"
     ]
    }
   ],
   "source": [
    "a = np.array(\n",
    "    [\n",
    "        [1,2,3,4],\n",
    "        [1,4,5,6],\n",
    "        [1,2,3,4]\n",
    "    ])\n",
    "print (a)\n",
    "a[0,0] = 100\n",
    "print ()\n",
    "print (a)"
   ]
  },
  {
   "cell_type": "markdown",
   "metadata": {},
   "source": [
    "##### 1.2) Numpy functions"
   ]
  },
  {
   "cell_type": "markdown",
   "metadata": {},
   "source": [
    "<font color=\"red\"> **Datatypes**"
   ]
  },
  {
   "cell_type": "code",
   "execution_count": 14,
   "metadata": {},
   "outputs": [
    {
     "name": "stdout",
     "output_type": "stream",
     "text": [
      "[[1 2 3 4]\n",
      " [1 4 5 6]\n",
      " [1 2 3 4]]\n",
      "<class 'numpy.int64'>\n",
      "\n",
      "[[1.2 2.  3.  4. ]\n",
      " [1.  4.  5.  6. ]\n",
      " [1.  2.  3.  4. ]]\n",
      "<class 'numpy.float64'>\n"
     ]
    }
   ],
   "source": [
    "a = np.array(\n",
    "    [\n",
    "        [1,2,3,4],\n",
    "        [1,4,5,6],\n",
    "        [1,2,3,4]\n",
    "    ]\n",
    ")\n",
    "print (a)\n",
    "print (type(a[0,0]))\n",
    "print ()\n",
    "a = np.array(\n",
    "    [\n",
    "        [1.2,2,3,4],\n",
    "        [1,4,5,6],\n",
    "        [1,2,3,4]\n",
    "    ]\n",
    ")  \n",
    "print (a)\n",
    "print (type(a[0,0]))"
   ]
  },
  {
   "cell_type": "markdown",
   "metadata": {},
   "source": [
    "<font color=\"red\"> **Compute sum of all elements in matrix**"
   ]
  },
  {
   "cell_type": "code",
   "execution_count": 15,
   "metadata": {},
   "outputs": [
    {
     "name": "stdout",
     "output_type": "stream",
     "text": [
      "[[1 2 1]\n",
      " [3 4 1]]\n",
      "12\n",
      "[4 6 2]\n",
      "[4 8]\n"
     ]
    }
   ],
   "source": [
    "x = np.array([\n",
    "        [1,2,1],[3,4,1]])\n",
    "\n",
    "print (x)\n",
    "print (np.sum(x))  \n",
    "print (np.sum(x, axis=0))  \n",
    "print (np.sum(x, axis=1))  "
   ]
  },
  {
   "cell_type": "markdown",
   "metadata": {},
   "source": [
    "<font color=\"red\"> **Create an array of all zeros**"
   ]
  },
  {
   "cell_type": "code",
   "execution_count": 16,
   "metadata": {},
   "outputs": [
    {
     "data": {
      "text/plain": [
       "array([[0., 0., 0., 0.],\n",
       "       [0., 0., 0., 0.],\n",
       "       [0., 0., 0., 0.],\n",
       "       [0., 0., 0., 0.]])"
      ]
     },
     "execution_count": 16,
     "metadata": {},
     "output_type": "execute_result"
    }
   ],
   "source": [
    "a = np.zeros((4,4))  \n",
    "a"
   ]
  },
  {
   "cell_type": "markdown",
   "metadata": {},
   "source": [
    "<font color=\"red\"> **Create an array of all ones ** "
   ]
  },
  {
   "cell_type": "code",
   "execution_count": 17,
   "metadata": {},
   "outputs": [
    {
     "data": {
      "text/plain": [
       "array([[1., 1., 1., 1., 1.],\n",
       "       [1., 1., 1., 1., 1.]])"
      ]
     },
     "execution_count": 17,
     "metadata": {},
     "output_type": "execute_result"
    }
   ],
   "source": [
    "a = np.ones((2,5))   \n",
    "a             "
   ]
  },
  {
   "cell_type": "markdown",
   "metadata": {},
   "source": [
    "<font color=\"red\"> **Create a constant array**"
   ]
  },
  {
   "cell_type": "code",
   "execution_count": 18,
   "metadata": {},
   "outputs": [
    {
     "data": {
      "text/plain": [
       "array([[7, 7, 7, 7],\n",
       "       [7, 7, 7, 7],\n",
       "       [7, 7, 7, 7],\n",
       "       [7, 7, 7, 7]])"
      ]
     },
     "execution_count": 18,
     "metadata": {},
     "output_type": "execute_result"
    }
   ],
   "source": [
    "a = np.full((4,4), 7)  \n",
    "a               "
   ]
  },
  {
   "cell_type": "markdown",
   "metadata": {},
   "source": [
    "<font color=\"red\"> **Create an identity matrix**"
   ]
  },
  {
   "cell_type": "code",
   "execution_count": 19,
   "metadata": {},
   "outputs": [
    {
     "data": {
      "text/plain": [
       "array([[1., 0., 0., 0.],\n",
       "       [0., 1., 0., 0.],\n",
       "       [0., 0., 1., 0.],\n",
       "       [0., 0., 0., 1.]])"
      ]
     },
     "execution_count": 19,
     "metadata": {},
     "output_type": "execute_result"
    }
   ],
   "source": [
    "a = np.eye(4)       \n",
    "a            "
   ]
  },
  {
   "cell_type": "markdown",
   "metadata": {},
   "source": [
    "<font color=\"red\"> **Create an array filled with random values**"
   ]
  },
  {
   "cell_type": "code",
   "execution_count": 20,
   "metadata": {},
   "outputs": [
    {
     "data": {
      "text/plain": [
       "array([[0.76256362, 0.01293506, 0.84376607, 0.73948311, 0.08605531],\n",
       "       [0.92549117, 0.56768581, 0.8225958 , 0.66554279, 0.18860485],\n",
       "       [0.49527677, 0.70415029, 0.12764767, 0.74069811, 0.57698094],\n",
       "       [0.90306337, 0.95927229, 0.03434256, 0.34999518, 0.9959636 ],\n",
       "       [0.37072637, 0.51423836, 0.22911421, 0.88665052, 0.23237169]])"
      ]
     },
     "execution_count": 20,
     "metadata": {},
     "output_type": "execute_result"
    }
   ],
   "source": [
    "a = np.random.random((5,5)) \n",
    "a                    "
   ]
  },
  {
   "cell_type": "markdown",
   "metadata": {},
   "source": [
    "<font color=\"red\"> **slicing to pull out the subarray**"
   ]
  },
  {
   "cell_type": "code",
   "execution_count": 21,
   "metadata": {},
   "outputs": [
    {
     "name": "stdout",
     "output_type": "stream",
     "text": [
      "[[ 1  2  3  4]\n",
      " [ 5  6  7  8]\n",
      " [ 9 10 11 12]]\n",
      "\n",
      "[[1 2 3]]\n"
     ]
    }
   ],
   "source": [
    "a = np.array(\n",
    "    [\n",
    "        [1,2,3,4],\n",
    "        [5,6,7,8],\n",
    "        [9,10,11,12]\n",
    "    ])\n",
    "print (a)\n",
    "print ()\n",
    "b = a[:1, :3]\n",
    "print (b)"
   ]
  },
  {
   "cell_type": "markdown",
   "metadata": {
    "collapsed": true
   },
   "source": [
    "##### 2) Matrix Addition\n",
    "<img src=\"image/matrix-sum.png\">"
   ]
  },
  {
   "cell_type": "code",
   "execution_count": 22,
   "metadata": {},
   "outputs": [
    {
     "name": "stdout",
     "output_type": "stream",
     "text": [
      "[[1. 1. 1. 1. 1. 1. 1.]\n",
      " [1. 1. 1. 1. 1. 1. 1.]\n",
      " [1. 1. 1. 1. 1. 1. 1.]\n",
      " [1. 1. 1. 1. 1. 1. 1.]]\n",
      "[[4.3 4.3 4.3 4.3 4.3 4.3 4.3]\n",
      " [4.3 4.3 4.3 4.3 4.3 4.3 4.3]\n",
      " [4.3 4.3 4.3 4.3 4.3 4.3 4.3]\n",
      " [4.3 4.3 4.3 4.3 4.3 4.3 4.3]]\n",
      "\n",
      "[[5.3 5.3 5.3 5.3 5.3 5.3 5.3]\n",
      " [5.3 5.3 5.3 5.3 5.3 5.3 5.3]\n",
      " [5.3 5.3 5.3 5.3 5.3 5.3 5.3]\n",
      " [5.3 5.3 5.3 5.3 5.3 5.3 5.3]]\n"
     ]
    }
   ],
   "source": [
    "x = np.ones((4,7))\n",
    "print (x)\n",
    "y = np.full((4,7), 4.3)\n",
    "print (y)\n",
    "z = x+y\n",
    "print ()\n",
    "print (z)"
   ]
  },
  {
   "cell_type": "code",
   "execution_count": 30,
   "metadata": {
    "scrolled": true
   },
   "outputs": [
    {
     "name": "stdout",
     "output_type": "stream",
     "text": [
      "[[1.2 2.  3.  4. ]\n",
      " [1.  4.  5.  6. ]\n",
      " [1.  2.  3.  4. ]]\n",
      "[[1 2 3 4]\n",
      " [1 4 5 6]\n",
      " [1 2 3 4]]\n",
      "\n",
      "[[ 2.2  4.   6.   8. ]\n",
      " [ 2.   8.  10.  12. ]\n",
      " [ 2.   4.   6.   8. ]]\n"
     ]
    }
   ],
   "source": [
    "x = np.array(\n",
    "    [\n",
    "        [1.2,2,3,4],\n",
    "        [1,4,5,6],\n",
    "        [1,2,3,4]\n",
    "    ])\n",
    "print (x)\n",
    "y = np.array(\n",
    "    [\n",
    "        [1,2,3,4],\n",
    "        [1,4,5,6],\n",
    "        [1,2,3,4]\n",
    "    ])\n",
    "print (y)\n",
    "print ()\n",
    "z = np.add(x, y)\n",
    "print (z)"
   ]
  },
  {
   "cell_type": "markdown",
   "metadata": {},
   "source": [
    "##### 2) Matrix Subtraction  \n",
    "<img src=\"image/matrix-sub.png\">"
   ]
  },
  {
   "cell_type": "code",
   "execution_count": 24,
   "metadata": {},
   "outputs": [
    {
     "name": "stdout",
     "output_type": "stream",
     "text": [
      "[[0.2 0.  0.  0. ]\n",
      " [0.  0.  0.  0. ]\n",
      " [0.  0.  0.  0. ]]\n",
      "\n",
      "[[0.2 0.  0.  0. ]\n",
      " [0.  0.  0.  0. ]\n",
      " [0.  0.  0.  0. ]]\n"
     ]
    }
   ],
   "source": [
    "z = x - y\n",
    "print (z)\n",
    "print ()\n",
    "z = np.subtract(x, y)\n",
    "print (z)"
   ]
  },
  {
   "cell_type": "markdown",
   "metadata": {},
   "source": [
    "##### 3) Matrix Vector Multiplication\n",
    "<img src=\"image/matrix-vector.png\">"
   ]
  },
  {
   "cell_type": "code",
   "execution_count": 25,
   "metadata": {},
   "outputs": [
    {
     "name": "stdout",
     "output_type": "stream",
     "text": [
      "[[ 1  0 -1]\n",
      " [ 1  2 -1]\n",
      " [ 1  0 -1]\n",
      " [ 1  0 -1]]\n",
      "[1 1 2]\n",
      "[-1  1 -1 -1]\n"
     ]
    }
   ],
   "source": [
    "x = np.array(\n",
    "    [\n",
    "        [1,0,-1],\n",
    "        [1,2,-1],\n",
    "        [1,0,-1],\n",
    "        [1,0,-1]\n",
    "    ])\n",
    "print (x)\n",
    "y = np.array([1,1,2])\n",
    "print (y)\n",
    "z = np.dot(x, y)\n",
    "print (z)"
   ]
  },
  {
   "cell_type": "markdown",
   "metadata": {},
   "source": [
    "##### 3.1) Matrix Multiplication\n",
    "<img src=\"image/matrix-dot.png\">"
   ]
  },
  {
   "cell_type": "code",
   "execution_count": 26,
   "metadata": {
    "scrolled": true
   },
   "outputs": [
    {
     "name": "stdout",
     "output_type": "stream",
     "text": [
      "[[1 2 3]\n",
      " [4 5 6]]\n",
      "[[ 7  8]\n",
      " [ 9 10]\n",
      " [11 12]]\n",
      "\n",
      "[[ 58  64]\n",
      " [139 154]]\n",
      "\n",
      "[[ 39  54  69]\n",
      " [ 49  68  87]\n",
      " [ 59  82 105]]\n"
     ]
    }
   ],
   "source": [
    "x = np.array(\n",
    "    [\n",
    "        [1,2,3],\n",
    "        [4,5,6]\n",
    "    ])\n",
    "print (x)\n",
    "y = np.array(\n",
    "    [\n",
    "        [7,8],\n",
    "        [9,10],\n",
    "        [11,12]\n",
    "    ])\n",
    "print (y)\n",
    "print ()\n",
    "z = np.dot(x, y)\n",
    "print (z)\n",
    "print ()\n",
    "z = np.dot(y, x)\n",
    "print (z)"
   ]
  },
  {
   "cell_type": "markdown",
   "metadata": {},
   "source": [
    "##### 4) Matrix Transpose\n",
    "<img src=\"image/matrix-transpose.png\">\n"
   ]
  },
  {
   "cell_type": "code",
   "execution_count": 27,
   "metadata": {},
   "outputs": [
    {
     "name": "stdout",
     "output_type": "stream",
     "text": [
      "[[0 1 2 0]\n",
      " [0 3 4 5]]\n",
      "\n",
      "[[0 0]\n",
      " [1 3]\n",
      " [2 4]\n",
      " [0 5]]\n"
     ]
    }
   ],
   "source": [
    "x = np.array([[0,1,2,0], [0,3,4,5]])\n",
    "print (x) \n",
    "print ()\n",
    "print (x.T) "
   ]
  },
  {
   "cell_type": "markdown",
   "metadata": {},
   "source": [
    "<font color=\"red\"> **Note that taking the transpose of a rank 1 array does nothing**"
   ]
  },
  {
   "cell_type": "code",
   "execution_count": 28,
   "metadata": {},
   "outputs": [
    {
     "name": "stdout",
     "output_type": "stream",
     "text": [
      "[0 1 2 3]\n",
      "(4,)\n",
      "(4,)\n"
     ]
    }
   ],
   "source": [
    "x = np.array([0,1,2,3])\n",
    "print (x)\n",
    "print (x.shape)\n",
    "y = x.T\n",
    "print (y.shape) "
   ]
  },
  {
   "cell_type": "markdown",
   "metadata": {},
   "source": [
    "<font color=\"red\"> **Create an empty matrix with the same shape as x**    "
   ]
  },
  {
   "cell_type": "code",
   "execution_count": 29,
   "metadata": {},
   "outputs": [
    {
     "name": "stdout",
     "output_type": "stream",
     "text": [
      "[[ 1  2  3]\n",
      " [ 4  5  6]\n",
      " [ 7  8  9]\n",
      " [10 11 12]]\n",
      "\n",
      "[[ 2  7  4]\n",
      " [ 5 10  7]\n",
      " [ 8 13 10]\n",
      " [11 16 13]]\n"
     ]
    }
   ],
   "source": [
    "x = np.array([[1,2,3], [4,5,6], [7,8,9], [10, 11, 12]])\n",
    "print (x)\n",
    "print ()\n",
    "v = np.array([1, 5, 1])\n",
    "y = np.empty_like(x)   \n",
    "\n",
    "for i in range(4):\n",
    "    y[i, :] = x[i, :] + v\n",
    "\n",
    "print (y)"
   ]
  },
  {
   "cell_type": "code",
   "execution_count": null,
   "metadata": {},
   "outputs": [],
   "source": []
  }
 ],
 "metadata": {
  "anaconda-cloud": {},
  "kernelspec": {
   "display_name": "Python 3",
   "language": "python",
   "name": "python3"
  },
  "language_info": {
   "codemirror_mode": {
    "name": "ipython",
    "version": 3
   },
   "file_extension": ".py",
   "mimetype": "text/x-python",
   "name": "python",
   "nbconvert_exporter": "python",
   "pygments_lexer": "ipython3",
   "version": "3.6.5"
  }
 },
 "nbformat": 4,
 "nbformat_minor": 1
}
