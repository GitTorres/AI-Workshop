{
 "cells": [
  {
   "cell_type": "code",
   "execution_count": 2,
   "metadata": {},
   "outputs": [],
   "source": [
    "import matplotlib.pyplot as plt\n",
    "import numpy as np\n",
    "from gensim import corpora, models, similarities"
   ]
  },
  {
   "cell_type": "code",
   "execution_count": 3,
   "metadata": {},
   "outputs": [],
   "source": [
    "# Original data, where each row is a document and each column represents\n",
    "# a characteristic of the documents. \n",
    "data = [[1, 1, 1, 0, 0], \n",
    "        [2, 2, 2, 0, 0], \n",
    "        [1, 1, 1, 0, 0],\n",
    "        [5, 5, 5, 0, 0],\n",
    "        [0, 0, 0, 2, 2],\n",
    "        [0, 0, 0, 3, 3],\n",
    "        [0, 0, 0, 1, 1]]"
   ]
  },
  {
   "cell_type": "code",
   "execution_count": 4,
   "metadata": {},
   "outputs": [
    {
     "name": "stdout",
     "output_type": "stream",
     "text": [
      "Results from plain SVD --------------------------------\n"
     ]
    }
   ],
   "source": [
    "print (\"Results from plain SVD --------------------------------\")"
   ]
  },
  {
   "cell_type": "code",
   "execution_count": 5,
   "metadata": {},
   "outputs": [],
   "source": [
    "# Apply SVD to the original data.\n",
    "data_array = np.array(data)\n",
    "u, s, v = np.linalg.svd(data, full_matrices=False)"
   ]
  },
  {
   "cell_type": "code",
   "execution_count": 9,
   "metadata": {},
   "outputs": [
    {
     "name": "stdout",
     "output_type": "stream",
     "text": [
      "U:  [[-1.79605302e-01  0.00000000e+00  9.65125963e-01 -6.54812483e-17\n",
      "   1.90456850e-01]\n",
      " [-3.59210604e-01  0.00000000e+00  9.37361795e-02 -4.47213595e-01\n",
      "  -8.13745212e-01]\n",
      " [-1.79605302e-01  0.00000000e+00  4.68680897e-02  8.94427191e-01\n",
      "  -4.06872606e-01]\n",
      " [-8.98026510e-01  0.00000000e+00 -2.39893282e-01 -3.18937782e-16\n",
      "   3.68781236e-01]\n",
      " [ 0.00000000e+00 -5.34522484e-01  0.00000000e+00 -7.66553128e-18\n",
      "   0.00000000e+00]\n",
      " [ 0.00000000e+00 -8.01783726e-01  0.00000000e+00  4.40128543e-17\n",
      "   0.00000000e+00]\n",
      " [ 0.00000000e+00 -2.67261242e-01  0.00000000e+00 -3.83276564e-18\n",
      "   0.00000000e+00]]\n"
     ]
    }
   ],
   "source": [
    "# Each column in U is a singular vector, where the values\n",
    "# reflect how much each document contributes to the representation\n",
    "# of that topic. Each of the vectors corresponds to a topic.\n",
    "print(\"U: \", u)"
   ]
  },
  {
   "cell_type": "code",
   "execution_count": 10,
   "metadata": {},
   "outputs": [
    {
     "name": "stdout",
     "output_type": "stream",
     "text": [
      "S:  [[9.64365076e+00 0.00000000e+00 0.00000000e+00 0.00000000e+00\n",
      "  0.00000000e+00]\n",
      " [0.00000000e+00 5.29150262e+00 0.00000000e+00 0.00000000e+00\n",
      "  0.00000000e+00]\n",
      " [0.00000000e+00 0.00000000e+00 6.27710981e-16 0.00000000e+00\n",
      "  0.00000000e+00]\n",
      " [0.00000000e+00 0.00000000e+00 0.00000000e+00 7.76865947e-17\n",
      "  0.00000000e+00]\n",
      " [0.00000000e+00 0.00000000e+00 0.00000000e+00 0.00000000e+00\n",
      "  6.41059970e-33]]\n"
     ]
    }
   ],
   "source": [
    "# Each value along the diagonal represents the weight of the topic\n",
    "# in the decomposition of the original data.\n",
    "S = np.diag(s)\n",
    "print (\"S: \", S)"
   ]
  },
  {
   "cell_type": "code",
   "execution_count": 13,
   "metadata": {},
   "outputs": [
    {
     "name": "stdout",
     "output_type": "stream",
     "text": [
      "V:  [[-0.57735027 -0.57735027 -0.57735027 -0.         -0.        ]\n",
      " [-0.         -0.         -0.         -0.70710678 -0.70710678]\n",
      " [ 0.81649658 -0.40824829 -0.40824829  0.          0.        ]\n",
      " [ 0.          0.          0.         -0.70710678  0.70710678]\n",
      " [ 0.         -0.70710678  0.70710678  0.          0.        ]]\n"
     ]
    }
   ],
   "source": [
    "# Each row in V is a singular vector, where the values reflect how\n",
    "# much each characteristic contributes to the representation of the\n",
    "# topic. Each of the row vectors corresponds to a topic.\n",
    "print (\"V: \", v)"
   ]
  },
  {
   "cell_type": "code",
   "execution_count": 15,
   "metadata": {},
   "outputs": [
    {
     "name": "stdout",
     "output_type": "stream",
     "text": [
      "Results from LSA -------------------------------------\n"
     ]
    }
   ],
   "source": [
    "print (\"Results from LSA -------------------------------------\")"
   ]
  },
  {
   "cell_type": "code",
   "execution_count": 16,
   "metadata": {},
   "outputs": [],
   "source": [
    "# Written as text to make it more apparent how the components work with each other.\n",
    "data_text = [['data', 'inf', 'retrieval'],\n",
    "             ['data']*2 + ['inf']*2 + ['retrieval']*2,\n",
    "             ['data', 'inf', 'retrieval'],\n",
    "             ['data']*5 + ['inf']*5+['retrieval']*5,\n",
    "             ['brain']*2 + ['lung']*2,\n",
    "             ['brain']*3 + ['lung']*3,\n",
    "             ['brain', 'lung']]"
   ]
  },
  {
   "cell_type": "code",
   "execution_count": 17,
   "metadata": {},
   "outputs": [
    {
     "data": {
      "text/plain": [
       "[['data', 'inf', 'retrieval'],\n",
       " ['data', 'data', 'inf', 'inf', 'retrieval', 'retrieval'],\n",
       " ['data', 'inf', 'retrieval'],\n",
       " ['data',\n",
       "  'data',\n",
       "  'data',\n",
       "  'data',\n",
       "  'data',\n",
       "  'inf',\n",
       "  'inf',\n",
       "  'inf',\n",
       "  'inf',\n",
       "  'inf',\n",
       "  'retrieval',\n",
       "  'retrieval',\n",
       "  'retrieval',\n",
       "  'retrieval',\n",
       "  'retrieval'],\n",
       " ['brain', 'brain', 'lung', 'lung'],\n",
       " ['brain', 'brain', 'brain', 'lung', 'lung', 'lung'],\n",
       " ['brain', 'lung']]"
      ]
     },
     "execution_count": 17,
     "metadata": {},
     "output_type": "execute_result"
    }
   ],
   "source": [
    "data_text"
   ]
  },
  {
   "cell_type": "code",
   "execution_count": 85,
   "metadata": {},
   "outputs": [
    {
     "name": "stdout",
     "output_type": "stream",
     "text": [
      "5\n"
     ]
    }
   ],
   "source": [
    "dictionary = corpora.Dictionary(data_text)\n",
    "print (len(dictionary))"
   ]
  },
  {
   "cell_type": "code",
   "execution_count": 84,
   "metadata": {},
   "outputs": [
    {
     "name": "stdout",
     "output_type": "stream",
     "text": [
      "0 data\n",
      "1 inf\n",
      "2 retrieval\n",
      "3 brain\n",
      "4 lung\n"
     ]
    }
   ],
   "source": [
    "for i in range(len(dictionary)):\n",
    "    print (i, dictionary[i])"
   ]
  },
  {
   "cell_type": "code",
   "execution_count": 108,
   "metadata": {},
   "outputs": [
    {
     "data": {
      "text/plain": [
       "[(0, 1), (1, 1), (2, 1)]"
      ]
     },
     "execution_count": 108,
     "metadata": {},
     "output_type": "execute_result"
    }
   ],
   "source": [
    "dictionary.doc2bow(data_text[0])"
   ]
  },
  {
   "cell_type": "code",
   "execution_count": 87,
   "metadata": {},
   "outputs": [],
   "source": [
    "# Compute bag of words representation of the text data, which yields numbers\n",
    "# corresponding to the original data.\n",
    "corpus = [dictionary.doc2bow(text) for text in data_text]"
   ]
  },
  {
   "cell_type": "code",
   "execution_count": 23,
   "metadata": {},
   "outputs": [
    {
     "name": "stdout",
     "output_type": "stream",
     "text": [
      "Corpus: \n",
      "[(0, 1), (1, 1), (2, 1)]\n",
      "[(0, 2), (1, 2), (2, 2)]\n",
      "[(0, 1), (1, 1), (2, 1)]\n",
      "[(0, 5), (1, 5), (2, 5)]\n",
      "[(3, 2), (4, 2)]\n",
      "[(3, 3), (4, 3)]\n",
      "[(3, 1), (4, 1)]\n"
     ]
    }
   ],
   "source": [
    "#corpora.MmCorpus.serialize('/tmp/corpus.mm', corpus) \n",
    "#corpus = corpora.MmCorpus('/tmp/corpus.mm', \n",
    "print (\"Corpus: \")\n",
    "for entry in corpus:\n",
    "  print(entry)"
   ]
  },
  {
   "cell_type": "code",
   "execution_count": 117,
   "metadata": {},
   "outputs": [
    {
     "name": "stdout",
     "output_type": "stream",
     "text": [
      "Topics: \n",
      "(0, '0.577*\"data\" + 0.577*\"retrieval\" + 0.577*\"inf\" + -0.000*\"lung\" + -0.000*\"brain\"')\n",
      "(1, '0.707*\"brain\" + 0.707*\"lung\" + -0.000*\"inf\" + 0.000*\"data\" + 0.000*\"retrieval\"')\n"
     ]
    }
   ],
   "source": [
    "lsi_model = models.LsiModel(corpus, id2word=dictionary, num_topics=2)\n",
    "corpus_lsi = lsi_model[corpus]\n",
    "print (\"Topics: \")\n",
    "for topic in lsi_model.print_topics(2):\n",
    "  print(topic)"
   ]
  },
  {
   "cell_type": "code",
   "execution_count": 118,
   "metadata": {},
   "outputs": [
    {
     "name": "stdout",
     "output_type": "stream",
     "text": [
      "U:\n"
     ]
    }
   ],
   "source": [
    "# TODO: this should be the left singular vectors, but is instead the right singular vectors. Why?\n",
    "\n",
    "print (\"U:\")\n",
    "s = lsi_model.projection.s\n",
    "u = np.zeros((7, 2))"
   ]
  },
  {
   "cell_type": "code",
   "execution_count": 119,
   "metadata": {},
   "outputs": [
    {
     "name": "stdout",
     "output_type": "stream",
     "text": [
      "[[0.1796053  0.        ]\n",
      " [0.3592106  0.        ]\n",
      " [0.1796053  0.        ]\n",
      " [0.89802651 0.        ]\n",
      " [0.         0.53452248]\n",
      " [0.         0.80178373]\n",
      " [0.         0.26726124]]\n"
     ]
    }
   ],
   "source": [
    "i = 0\n",
    "for doc in corpus_lsi:\n",
    "  u[i][doc[0][0]] = doc[0][1]/s[doc[0][0]]\n",
    "  i += 1\n",
    "print (u)"
   ]
  },
  {
   "cell_type": "code",
   "execution_count": 120,
   "metadata": {},
   "outputs": [
    {
     "name": "stdout",
     "output_type": "stream",
     "text": [
      "S:\n",
      "[[9.64365076 0.        ]\n",
      " [0.         5.29150262]]\n"
     ]
    }
   ],
   "source": [
    "print (\"S:\")\n",
    "S = np.diag(s)\n",
    "print (S)"
   ]
  },
  {
   "cell_type": "code",
   "execution_count": 121,
   "metadata": {},
   "outputs": [
    {
     "name": "stdout",
     "output_type": "stream",
     "text": [
      "V:\n",
      "[[ 0.5774  0.5774  0.5774 -0.     -0.    ]\n",
      " [ 0.     -0.      0.      0.7071  0.7071]]\n"
     ]
    }
   ],
   "source": [
    "print (\"V:\")\n",
    "V = np.round(np.transpose(np.array(lsi_model.projection.u)), 4)\n",
    "print (V)"
   ]
  },
  {
   "cell_type": "code",
   "execution_count": 122,
   "metadata": {},
   "outputs": [
    {
     "name": "stdout",
     "output_type": "stream",
     "text": [
      "Corpus transformed wrt topics from LSI (u*weight): \n",
      "[(0, 1.7320508075688776)]\n",
      "[(0, 3.4641016151377553)]\n",
      "[(0, 1.7320508075688776)]\n",
      "[(0, 8.660254037844387)]\n",
      "[(1, 2.82842712474619)]\n",
      "[(1, 4.242640687119284)]\n",
      "[(1, 1.414213562373095)]\n"
     ]
    }
   ],
   "source": [
    "print (\"Corpus transformed wrt topics from LSI (u*weight): \")\n",
    "for doc in corpus_lsi:\n",
    "  print(doc)"
   ]
  },
  {
   "cell_type": "code",
   "execution_count": 123,
   "metadata": {},
   "outputs": [
    {
     "name": "stdout",
     "output_type": "stream",
     "text": [
      "[[1.7322 0.    ]\n",
      " [3.4644 0.    ]\n",
      " [1.7322 0.    ]\n",
      " [8.661  0.    ]\n",
      " [0.     2.8284]\n",
      " [0.     4.2426]\n",
      " [0.     1.4142]]\n"
     ]
    },
    {
     "data": {
      "image/png": "[encoded data removed]",
      "text/plain": [
       "<Figure size 432x288 with 1 Axes>"
      ]
     },
     "metadata": {},
     "output_type": "display_data"
    },
    {
     "name": "stdout",
     "output_type": "stream",
     "text": [
      "[[5.56776436 0.        ]\n",
      " [5.56776436 0.        ]\n",
      " [5.56776436 0.        ]\n",
      " [0.         3.74165739]\n",
      " [0.         3.74165739]]\n"
     ]
    },
    {
     "data": {
      "image/png": "[encoded data removed]",
      "text/plain": [
       "<Figure size 432x288 with 1 Axes>"
      ]
     },
     "metadata": {},
     "output_type": "display_data"
    }
   ],
   "source": [
    "# Visualization of the term and document representations in the latent space.\n",
    "# Document representations in latent space.\n",
    "#latent_docs = []\n",
    "#for doc_row in data_array:\n",
    "#  latent_doc = np.dot(doc_row, np.transpose(V))\n",
    "#  latent_docs.append(latent_doc)\n",
    "\n",
    "#print latent_docs\n",
    "latent_docs = np.dot(data_array, np.transpose(V))\n",
    "print (latent_docs)\n",
    "plt.plot([x[0] for x in latent_docs], [x[1] for x in latent_docs], 'bo')\n",
    "plt.show()\n",
    "plt.clf()\n",
    "\n",
    "# Term representation in latent space.\n",
    "latent_terms = np.dot(np.transpose(data_array), u)\n",
    "print (latent_terms)\n",
    "plt.plot([x[0] for x in latent_terms], [x[1] for x in latent_terms], 'ro')\n",
    "plt.show()"
   ]
  },
  {
   "cell_type": "code",
   "execution_count": null,
   "metadata": {},
   "outputs": [],
   "source": []
  },
  {
   "cell_type": "code",
   "execution_count": null,
   "metadata": {},
   "outputs": [],
   "source": []
  }
 ],
 "metadata": {
  "kernelspec": {
   "display_name": "Python 3",
   "language": "python",
   "name": "python3"
  },
  "language_info": {
   "codemirror_mode": {
    "name": "ipython",
    "version": 3
   },
   "file_extension": ".py",
   "mimetype": "text/x-python",
   "name": "python",
   "nbconvert_exporter": "python",
   "pygments_lexer": "ipython3",
   "version": "3.6.5"
  }
 },
 "nbformat": 4,
 "nbformat_minor": 2
}
