{
 "cells": [
  {
   "cell_type": "markdown",
   "metadata": {},
   "source": [
    "  "
   ]
  },
  {
   "cell_type": "markdown",
   "metadata": {},
   "source": [
    "<hr style=\"height:3px;border:none;color:#333;background-color:#333;\" />\n",
    "<img style=\" float:right; display:inline\" src=https://upload.wikimedia.org/wikipedia/commons/2/2d/Tensorflow_logo.svg width=\"150\" height=\"150\" />\n",
    "\n",
    "### Clues in TensorFlow\n",
    "<br/>\n",
    "<br/>\n",
    "<span style=\"color:#000; font-family: 'Bebas Neue'; font-size: 2.0em;\"> TensorFlow Hands-on Tutorial </span>\n",
    "\n",
    "<hr style=\"height:3px;border:none;color:#333;background-color:#333;\" />"
   ]
  },
  {
   "cell_type": "markdown",
   "metadata": {},
   "source": [
    "# Clues in TensorFlow\n",
    "## What does TensorFlow actually do?  \n",
    "\n",
    "TensorFlow provides primitives for defining functions on tensors and automatically computing their derivatives  \n",
    "\n",
    "## What is a Tensor?\n",
    "Formally, tensors are multilinear maps from vector spaces to the real numbers (***V*** vector space, and ***V* *** dual space)\n",
    "\n",
    "$$ f: V^*\\times ... V^* \\times V \\times ... \\times V \\rightarrow   \\mathbb{\\textbf{R}} $$  \n",
    "\n",
    "A scalar is a tensor $ \\quad f: \\mathbb{\\textbf{R}} \\rightarrow \\mathbb{\\textbf{R}},\\quad f(e_1) = c $  \n",
    "A vector is a tensor $ \\quad f: \\mathbb{\\textbf{R}^n} \\rightarrow \\mathbb{\\textbf{R}},\\quad f(e_i) = v_i $  \n",
    "A matrix is a tensor $ \\quad f:  \\mathbb{\\textbf{R}^n \\times \\textbf{R}^m} \\rightarrow \\mathbb{\\textbf{R}},\\quad f(e_i, e_j) = A_{ij} $\n",
    "\n",
    "Common to have fixed basis, ** so a tensor can be represented as a multidimensional array of numbers. **"
   ]
  },
  {
   "cell_type": "markdown",
   "metadata": {},
   "source": [
    "## TensorFlow Computation Graph\n",
    "\n",
    "“TensorFlow programs are usually structured into a construction phase, that assembles a graph, and an execution phase that uses a session to execute ops in the graph” - [TensorFlow docs][1].  \n",
    "\n",
    "All computations add nodes to global default graph [docs][2].\n",
    "\n",
    "Importing TensorFlow the same as other Python Libraries\n",
    "\n",
    "[1]: https://www.tensorflow.org/tutorials/\n",
    "[2]: https://www.tensorflow.org/guide/"
   ]
  },
  {
   "cell_type": "code",
   "execution_count": null,
   "metadata": {},
   "outputs": [],
   "source": [
    "import warnings\n",
    "warnings.filterwarnings(\"ignore\")"
   ]
  },
  {
   "cell_type": "code",
   "execution_count": null,
   "metadata": {},
   "outputs": [],
   "source": [
    "import tensorflow as tf\n",
    "import numpy as np"
   ]
  },
  {
   "cell_type": "markdown",
   "metadata": {},
   "source": [
    "## Phase I:  Construction Phase\n",
    "\n",
    "TensorFlow defines a **computation graph** that has no numerical value until evaluated!\n",
    "\n",
    "Here are some clues may be you should use in this phase"
   ]
  },
  {
   "cell_type": "code",
   "execution_count": null,
   "metadata": {},
   "outputs": [],
   "source": [
    "constant1 = tf.constant(5.0)\n",
    "constant2 = tf.zeros((2,2)); constant3 = tf.ones((2,2))"
   ]
  },
  {
   "cell_type": "markdown",
   "metadata": {},
   "source": [
    "### Variables\n",
    "“When you train a model you use variables to hold and update parameters. Variables are in-memory buffers containing tensors” [TensorFlow docs][1]  \n",
    "\n",
    "[1]: https://www.tensorflow.org/versions/r0.8/how_tos/variables/index.html\n"
   ]
  },
  {
   "cell_type": "code",
   "execution_count": null,
   "metadata": {},
   "outputs": [],
   "source": [
    "w1 = tf.Variable(tf.zeros((2,2)), name=\"wights\")\n",
    "w2 = tf.Variable(tf.random_normal((2,2)), name=\"random_wights\")"
   ]
  },
  {
   "cell_type": "markdown",
   "metadata": {},
   "source": [
    "### Updating Variable"
   ]
  },
  {
   "cell_type": "code",
   "execution_count": null,
   "metadata": {},
   "outputs": [],
   "source": [
    "new_w2 = tf.add(w2, w1)\n",
    "w1 = tf.assign(w1, new_w2)"
   ]
  },
  {
   "cell_type": "markdown",
   "metadata": {},
   "source": [
    "### Input external data into TensorFlow"
   ]
  },
  {
   "cell_type": "code",
   "execution_count": null,
   "metadata": {},
   "outputs": [],
   "source": [
    "a = np.zeros((3,3))\n",
    "ta = tf.convert_to_tensor(a)"
   ]
  },
  {
   "cell_type": "markdown",
   "metadata": {},
   "source": [
    "**tf.convert_to_tensor()** is convenient, but doesn’t scale."
   ]
  },
  {
   "cell_type": "markdown",
   "metadata": {},
   "source": [
    "**tf.placeholder** variables scale and they dummy nodes that provide entry points for data to computational graph."
   ]
  },
  {
   "cell_type": "code",
   "execution_count": null,
   "metadata": {},
   "outputs": [],
   "source": [
    "input1 = tf.placeholder(tf.float32)\n",
    "input2 = tf.placeholder(tf.float32)\n",
    "output = tf.multiply(input1, input2)"
   ]
  },
  {
   "cell_type": "markdown",
   "metadata": {},
   "source": [
    "## Some useful functions"
   ]
  },
  {
   "cell_type": "code",
   "execution_count": null,
   "metadata": {},
   "outputs": [],
   "source": [
    "a.shape\n",
    "tf.reshape(a, [1,9])\n",
    "tf.reduce_sum(a,reduction_indices=[1])"
   ]
  },
  {
   "cell_type": "markdown",
   "metadata": {},
   "source": [
    "## Phase II: Execution Phase\n",
    "\n",
    "“A Session object encapsulates the environment in which Tensor objects are evaluated” [TensorFlow Docs][1]\n",
    "\n",
    "[1]: https://www.tensorflow.org/api_docs/python/tf/Session"
   ]
  },
  {
   "cell_type": "code",
   "execution_count": null,
   "metadata": {},
   "outputs": [],
   "source": [
    "a = tf.constant(5.0)\n",
    "b = tf.constant(6.0)\n",
    "c = a * b\n",
    "\n",
    "with tf.Session() as sess:\n",
    "    print(sess.run(c))\n"
   ]
  },
  {
   "cell_type": "markdown",
   "metadata": {},
   "source": [
    "### Two Convenient Syntactics to evaluate Session"
   ]
  },
  {
   "cell_type": "code",
   "execution_count": null,
   "metadata": {},
   "outputs": [],
   "source": [
    "tf.InteractiveSession()"
   ]
  },
  {
   "cell_type": "markdown",
   "metadata": {},
   "source": [
    "Just convenient syntactic sugar for keeping a default session open in ipython."
   ]
  },
  {
   "cell_type": "code",
   "execution_count": null,
   "metadata": {},
   "outputs": [],
   "source": [
    "tf.InteractiveSession()\n",
    "c.eval()"
   ]
  },
  {
   "cell_type": "markdown",
   "metadata": {},
   "source": [
    "### Make the input in Execution Phase"
   ]
  },
  {
   "cell_type": "markdown",
   "metadata": {},
   "source": [
    "A **feed_dict** is a python dictionary mapping from tf.\n",
    "placeholder vars (or their names) to data (numpy arrays, lists, etc.)."
   ]
  },
  {
   "cell_type": "code",
   "execution_count": null,
   "metadata": {},
   "outputs": [],
   "source": [
    "input1 = tf.placeholder(tf.float32)\n",
    "input2 = tf.placeholder(tf.float32)\n",
    "output = tf.multiply(input1, input2)\n",
    "\n",
    "with tf.Session() as sess:\n",
    "    print(sess.run([output], feed_dict={input1:[7.], input2:[2.]}))"
   ]
  },
  {
   "cell_type": "markdown",
   "metadata": {
    "collapsed": true
   },
   "source": [
    "  "
   ]
  },
  {
   "cell_type": "markdown",
   "metadata": {},
   "source": [
    "  "
   ]
  }
 ],
 "metadata": {
  "kernelspec": {
   "display_name": "Python 3",
   "language": "python",
   "name": "python3"
  },
  "language_info": {
   "codemirror_mode": {
    "name": "ipython",
    "version": 3
   },
   "file_extension": ".py",
   "mimetype": "text/x-python",
   "name": "python",
   "nbconvert_exporter": "python",
   "pygments_lexer": "ipython3",
   "version": "3.5.2"
  }
 },
 "nbformat": 4,
 "nbformat_minor": 1
}
